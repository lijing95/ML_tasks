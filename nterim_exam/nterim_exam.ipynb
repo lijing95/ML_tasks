{
 "cells": [
  {
   "cell_type": "markdown",
   "metadata": {},
   "source": [
    "# PART I"
   ]
  },
  {
   "cell_type": "markdown",
   "metadata": {},
   "source": [
    "    Part I (15 points)\n",
    "\n",
    "    We have already studied the ROC curve that represents the performance of a binary classifier. This time you are asked to investigate the Detection Error Trade-off (DET) curve and complete the following tasks:\n",
    "\n",
    "    * Figure out what DET curve is (what are the axes, what each point on the plot means)\n",
    "    【A detection error tradeoff (DET) graph is a graphical plot of error rates for binary classification systems, plotting the false rejection rate vs. false acceptance rate. The x- and y-axes are scaled non-linearly by their standard normal deviates (or just by logarithmic transformation), yielding tradeoff curves that are more linear than ROC curves, and use most of the image area to highlight the differences of importance in the critical operating region.】【x-far y-frr】\n",
    "    \n",
    "    \n",
    "    * Figure out what is the metric Equal Error Rate (EER) and it's position on the DET plot\n",
    "    【Equal error rate (EER) is a biometric security system algorithm used to predetermines the threshold values for its false acceptance rate and its false rejection rate. When the rates are equal, the common value is referred to as the equal error rate. The value indicates that the proportion of false acceptances is equal to the proportion of false rejections. The lower the equal error rate value, the higher the accuracy of the biometric system.】【in the graph where far==frr 】\n",
    "    \n",
    "    \n",
    "    * Using only Numpy and Matplotlib packages write a Python function that takes two input arrays with a binary classifier's predictions and target labels (y_pred and y_test) and does the following:\n",
    "        a) computes EER\n",
    "        b) plots DET curve (add axes names and show the position of EER point)\n",
    "    \n",
    "    * Use example test_scores.csv file to debug your code (your submission will be tested using similar csv file), where  column 'predicted' == y_pred and 'true_label' == y_test"
   ]
  },
  {
   "cell_type": "markdown",
   "metadata": {},
   "source": [
    "    查检测误差权衡(DET)曲线并完成以下任务:\n",
    "\n",
    "    *找出det曲线是什么（轴是什么，绘图上的每个点是什么意思)\n",
    "    *找出什么是度量等误差率（EER）和它在DET图上的位置\n",
    "    *仅使用Numpy和Matplotlib包编写一个Python函数，该函数采用带有二进制分类器预测和目标标签（y_pred和y_test）的两个输入数组，并执行以下操作:\n",
    "        a)计算EER\n",
    "        b）绘制DET曲线（添加轴名称并显示EER点的位置)\n",
    "\n",
    "    *使用示例test_scores.csv文件来调试您的代码（您的提交将使用类似的csv文件进行测试），其中列'predicted'==y_pred和'true_label'==y_test"
   ]
  },
  {
   "cell_type": "code",
   "execution_count": 25,
   "metadata": {},
   "outputs": [],
   "source": [
    "import numpy as np\n",
    "import matplotlib.pyplot as plt\n",
    "import pandas as pd\n",
    "from matplotlib.ticker import MultipleLocator\n"
   ]
  },
  {
   "cell_type": "code",
   "execution_count": 26,
   "metadata": {},
   "outputs": [
    {
     "data": {
      "text/html": [
       "<div>\n",
       "<style scoped>\n",
       "    .dataframe tbody tr th:only-of-type {\n",
       "        vertical-align: middle;\n",
       "    }\n",
       "\n",
       "    .dataframe tbody tr th {\n",
       "        vertical-align: top;\n",
       "    }\n",
       "\n",
       "    .dataframe thead th {\n",
       "        text-align: right;\n",
       "    }\n",
       "</style>\n",
       "<table border=\"1\" class=\"dataframe\">\n",
       "  <thead>\n",
       "    <tr style=\"text-align: right;\">\n",
       "      <th></th>\n",
       "      <th>predicted</th>\n",
       "      <th>true_label</th>\n",
       "    </tr>\n",
       "  </thead>\n",
       "  <tbody>\n",
       "    <tr>\n",
       "      <th>0</th>\n",
       "      <td>0.665557</td>\n",
       "      <td>1</td>\n",
       "    </tr>\n",
       "    <tr>\n",
       "      <th>1</th>\n",
       "      <td>0.641456</td>\n",
       "      <td>1</td>\n",
       "    </tr>\n",
       "    <tr>\n",
       "      <th>2</th>\n",
       "      <td>0.298152</td>\n",
       "      <td>0</td>\n",
       "    </tr>\n",
       "    <tr>\n",
       "      <th>3</th>\n",
       "      <td>0.237694</td>\n",
       "      <td>0</td>\n",
       "    </tr>\n",
       "    <tr>\n",
       "      <th>4</th>\n",
       "      <td>0.357656</td>\n",
       "      <td>0</td>\n",
       "    </tr>\n",
       "    <tr>\n",
       "      <th>...</th>\n",
       "      <td>...</td>\n",
       "      <td>...</td>\n",
       "    </tr>\n",
       "    <tr>\n",
       "      <th>19995</th>\n",
       "      <td>0.418750</td>\n",
       "      <td>1</td>\n",
       "    </tr>\n",
       "    <tr>\n",
       "      <th>19996</th>\n",
       "      <td>0.676707</td>\n",
       "      <td>1</td>\n",
       "    </tr>\n",
       "    <tr>\n",
       "      <th>19997</th>\n",
       "      <td>0.610698</td>\n",
       "      <td>1</td>\n",
       "    </tr>\n",
       "    <tr>\n",
       "      <th>19998</th>\n",
       "      <td>0.182601</td>\n",
       "      <td>0</td>\n",
       "    </tr>\n",
       "    <tr>\n",
       "      <th>19999</th>\n",
       "      <td>0.734329</td>\n",
       "      <td>1</td>\n",
       "    </tr>\n",
       "  </tbody>\n",
       "</table>\n",
       "<p>20000 rows × 2 columns</p>\n",
       "</div>"
      ],
      "text/plain": [
       "       predicted  true_label\n",
       "0       0.665557           1\n",
       "1       0.641456           1\n",
       "2       0.298152           0\n",
       "3       0.237694           0\n",
       "4       0.357656           0\n",
       "...          ...         ...\n",
       "19995   0.418750           1\n",
       "19996   0.676707           1\n",
       "19997   0.610698           1\n",
       "19998   0.182601           0\n",
       "19999   0.734329           1\n",
       "\n",
       "[20000 rows x 2 columns]"
      ]
     },
     "execution_count": 26,
     "metadata": {},
     "output_type": "execute_result"
    }
   ],
   "source": [
    "df = pd.read_csv('./test_scores.csv')\n",
    "df"
   ]
  },
  {
   "cell_type": "code",
   "execution_count": 27,
   "metadata": {},
   "outputs": [],
   "source": [
    "df['predicted'] = sorted(df['predicted'])\n"
   ]
  },
  {
   "cell_type": "code",
   "execution_count": 28,
   "metadata": {},
   "outputs": [
    {
     "data": {
      "text/html": [
       "<div>\n",
       "<style scoped>\n",
       "    .dataframe tbody tr th:only-of-type {\n",
       "        vertical-align: middle;\n",
       "    }\n",
       "\n",
       "    .dataframe tbody tr th {\n",
       "        vertical-align: top;\n",
       "    }\n",
       "\n",
       "    .dataframe thead th {\n",
       "        text-align: right;\n",
       "    }\n",
       "</style>\n",
       "<table border=\"1\" class=\"dataframe\">\n",
       "  <thead>\n",
       "    <tr style=\"text-align: right;\">\n",
       "      <th></th>\n",
       "      <th>predicted</th>\n",
       "      <th>true_label</th>\n",
       "    </tr>\n",
       "  </thead>\n",
       "  <tbody>\n",
       "    <tr>\n",
       "      <th>0</th>\n",
       "      <td>0.000000</td>\n",
       "      <td>1</td>\n",
       "    </tr>\n",
       "    <tr>\n",
       "      <th>1</th>\n",
       "      <td>0.024247</td>\n",
       "      <td>1</td>\n",
       "    </tr>\n",
       "    <tr>\n",
       "      <th>2</th>\n",
       "      <td>0.060345</td>\n",
       "      <td>0</td>\n",
       "    </tr>\n",
       "    <tr>\n",
       "      <th>3</th>\n",
       "      <td>0.063811</td>\n",
       "      <td>0</td>\n",
       "    </tr>\n",
       "    <tr>\n",
       "      <th>4</th>\n",
       "      <td>0.073856</td>\n",
       "      <td>0</td>\n",
       "    </tr>\n",
       "    <tr>\n",
       "      <th>...</th>\n",
       "      <td>...</td>\n",
       "      <td>...</td>\n",
       "    </tr>\n",
       "    <tr>\n",
       "      <th>19995</th>\n",
       "      <td>0.923634</td>\n",
       "      <td>1</td>\n",
       "    </tr>\n",
       "    <tr>\n",
       "      <th>19996</th>\n",
       "      <td>0.923838</td>\n",
       "      <td>1</td>\n",
       "    </tr>\n",
       "    <tr>\n",
       "      <th>19997</th>\n",
       "      <td>0.924418</td>\n",
       "      <td>1</td>\n",
       "    </tr>\n",
       "    <tr>\n",
       "      <th>19998</th>\n",
       "      <td>0.930198</td>\n",
       "      <td>0</td>\n",
       "    </tr>\n",
       "    <tr>\n",
       "      <th>19999</th>\n",
       "      <td>0.986524</td>\n",
       "      <td>1</td>\n",
       "    </tr>\n",
       "  </tbody>\n",
       "</table>\n",
       "<p>20000 rows × 2 columns</p>\n",
       "</div>"
      ],
      "text/plain": [
       "       predicted  true_label\n",
       "0       0.000000           1\n",
       "1       0.024247           1\n",
       "2       0.060345           0\n",
       "3       0.063811           0\n",
       "4       0.073856           0\n",
       "...          ...         ...\n",
       "19995   0.923634           1\n",
       "19996   0.923838           1\n",
       "19997   0.924418           1\n",
       "19998   0.930198           0\n",
       "19999   0.986524           1\n",
       "\n",
       "[20000 rows x 2 columns]"
      ]
     },
     "execution_count": 28,
     "metadata": {},
     "output_type": "execute_result"
    }
   ],
   "source": [
    "df"
   ]
  },
  {
   "cell_type": "code",
   "execution_count": 29,
   "metadata": {},
   "outputs": [
    {
     "data": {
      "text/plain": [
       "0.0603449"
      ]
     },
     "execution_count": 29,
     "metadata": {},
     "output_type": "execute_result"
    }
   ],
   "source": [
    "df['predicted'][2]"
   ]
  },
  {
   "cell_type": "code",
   "execution_count": 30,
   "metadata": {},
   "outputs": [
    {
     "data": {
      "text/plain": [
       "20000"
      ]
     },
     "execution_count": 30,
     "metadata": {},
     "output_type": "execute_result"
    }
   ],
   "source": [
    "len(df)"
   ]
  },
  {
   "cell_type": "code",
   "execution_count": 38,
   "metadata": {},
   "outputs": [
    {
     "data": {
      "text/plain": [
       "0.0098652413"
      ]
     },
     "execution_count": 38,
     "metadata": {},
     "output_type": "execute_result"
    }
   ],
   "source": [
    "min_score = min(df['predicted'])\n",
    "max_score = max(df['predicted'])\n",
    "step = (max_score - min_score) / 100\n",
    "step"
   ]
  },
  {
   "cell_type": "code",
   "execution_count": 32,
   "metadata": {},
   "outputs": [],
   "source": [
    "def compute_FA(nontarget_is_target, target_is_target):\n",
    "    #False_accept = nontarget_is_target / (nontarget_is_target + target_is_target)\n",
    "    FA = float(nontarget_is_target) / (nontarget_is_target + target_is_target)\n",
    "    return FA\n",
    "\n",
    "def compute_FR(target_is_nontarget, nontarget_is_nontarget):\n",
    "    #False_accept = nontarget_is_target / (nontarget_is_target + target_is_target)\n",
    "    FA = float(target_is_nontarget) / (nontarget_is_nontarget + target_is_nontarget)\n",
    "    return FA"
   ]
  },
  {
   "cell_type": "code",
   "execution_count": 39,
   "metadata": {
    "scrolled": true
   },
   "outputs": [
    {
     "name": "stdout",
     "output_type": "stream",
     "text": [
      "big: 19999 small: 1\n",
      "big: 19999 small: 1\n",
      "big: 19998 small: 2\n",
      "big: 19998 small: 2\n",
      "big: 19998 small: 2\n",
      "big: 19998 small: 2\n",
      "big: 19996 small: 4\n",
      "big: 19995 small: 5\n",
      "big: 19987 small: 13\n",
      "big: 19975 small: 25\n",
      "big: 19962 small: 38\n",
      "big: 19945 small: 55\n",
      "big: 19914 small: 86\n",
      "big: 19878 small: 122\n",
      "big: 19819 small: 181\n",
      "big: 19714 small: 286\n",
      "big: 19594 small: 406\n",
      "big: 19447 small: 553\n",
      "big: 19261 small: 739\n",
      "big: 19035 small: 965\n",
      "big: 18735 small: 1265\n",
      "big: 18381 small: 1619\n",
      "big: 17974 small: 2026\n",
      "big: 17497 small: 2503\n",
      "big: 17012 small: 2988\n",
      "big: 16480 small: 3520\n",
      "big: 15931 small: 4069\n",
      "big: 15359 small: 4641\n",
      "big: 14763 small: 5237\n",
      "big: 14253 small: 5747\n",
      "big: 13717 small: 6283\n",
      "big: 13232 small: 6768\n",
      "big: 12735 small: 7265\n",
      "big: 12352 small: 7648\n",
      "big: 11942 small: 8058\n",
      "big: 11611 small: 8389\n",
      "big: 11280 small: 8720\n",
      "big: 10996 small: 9004\n",
      "big: 10770 small: 9230\n",
      "big: 10567 small: 9433\n",
      "big: 10378 small: 9622\n",
      "big: 10208 small: 9792\n",
      "big: 10062 small: 9938\n",
      "big: 9918 small: 10082\n",
      "big: 9762 small: 10238\n",
      "big: 9630 small: 10370\n",
      "big: 9484 small: 10516\n",
      "big: 9336 small: 10664\n",
      "big: 9189 small: 10811\n",
      "big: 9036 small: 10964\n",
      "big: 8852 small: 11148\n",
      "big: 8652 small: 11348\n",
      "big: 8445 small: 11555\n",
      "big: 8220 small: 11780\n",
      "big: 8002 small: 11998\n",
      "big: 7716 small: 12284\n",
      "big: 7422 small: 12578\n",
      "big: 7121 small: 12879\n",
      "big: 6770 small: 13230\n",
      "big: 6428 small: 13572\n",
      "big: 6063 small: 13937\n",
      "big: 5711 small: 14289\n",
      "big: 5337 small: 14663\n",
      "big: 4958 small: 15042\n",
      "big: 4587 small: 15413\n",
      "big: 4205 small: 15795\n",
      "big: 3825 small: 16175\n",
      "big: 3458 small: 16542\n",
      "big: 3071 small: 16929\n",
      "big: 2727 small: 17273\n",
      "big: 2407 small: 17593\n",
      "big: 2083 small: 17917\n",
      "big: 1796 small: 18204\n",
      "big: 1547 small: 18453\n",
      "big: 1321 small: 18679\n",
      "big: 1073 small: 18927\n",
      "big: 883 small: 19117\n",
      "big: 720 small: 19280\n",
      "big: 562 small: 19438\n",
      "big: 445 small: 19555\n",
      "big: 360 small: 19640\n",
      "big: 272 small: 19728\n",
      "big: 204 small: 19796\n",
      "big: 155 small: 19845\n",
      "big: 113 small: 19887\n",
      "big: 81 small: 19919\n",
      "big: 62 small: 19938\n",
      "big: 45 small: 19955\n",
      "big: 33 small: 19967\n",
      "big: 20 small: 19980\n",
      "big: 13 small: 19987\n",
      "big: 7 small: 19993\n",
      "big: 6 small: 19994\n",
      "big: 2 small: 19998\n",
      "big: 1 small: 19999\n",
      "big: 1 small: 19999\n",
      "big: 1 small: 19999\n",
      "big: 1 small: 19999\n",
      "big: 1 small: 19999\n"
     ]
    }
   ],
   "source": [
    "#对于每一个门限点计算一个 far 和 frr    Calculate a far and frr for each threshold point\n",
    "threshold_list = []\n",
    "infos_list = []\n",
    "\n",
    "for ind in range(1,100):\n",
    "    target_is_target = 0\n",
    "    nontarget_is_nontarget = 0\n",
    "    nontarget_is_target = 0\n",
    "    target_is_nontarget = 0\n",
    "    \n",
    "    threshold = ind * step + min_score # 从min 到 max 20 个 门限\n",
    "    threshold_list.append(threshold)\n",
    "    \n",
    "    small_threshold = []    #predicted\n",
    "    big_threshold = []      #predicted\n",
    "    \n",
    "    _small_threshold = []   #true_label\n",
    "    _big_threshold = []     #true_label\n",
    "    \n",
    "    i = 0\n",
    "    while i<len(df):\n",
    "        if df['predicted'][i] > threshold:\n",
    "            big_threshold.append(df['predicted'][i])\n",
    "            _big_threshold.append(df['true_label'][i])\n",
    "        else:\n",
    "            small_threshold.append(df['predicted'][i])\n",
    "            _small_threshold.append(df['true_label'][i])\n",
    "        i+=1\n",
    "            \n",
    "    print(\"big:\", len(big_threshold), 'small:', len(small_threshold))\n",
    "    \n",
    "    \n",
    "    #在big_threshold 的数据里确定 target_is_target 和 nontarget_is_target\n",
    "    \n",
    "    m = 0\n",
    "    while m<len(big_threshold):\n",
    "        if _big_threshold[m] == 1:\n",
    "            target_is_target += 1\n",
    "        else:\n",
    "            nontarget_is_target += 1\n",
    "        m+=1\n",
    "    \n",
    "    n = 0\n",
    "    while n<len(small_threshold):\n",
    "        if _small_threshold[n] == 0:\n",
    "            nontarget_is_nontarget += 1\n",
    "        else:\n",
    "            target_is_nontarget += 1\n",
    "        n+=1\n",
    "    \n",
    "    FA = compute_FA(nontarget_is_target, target_is_target)\n",
    "    FR = compute_FR(target_is_nontarget, nontarget_is_nontarget)\n",
    "    \n",
    "    infos_list += [[FA, FR]]\n",
    "    i = 0\n",
    "    m = 0\n",
    "    n = 0\n"
   ]
  },
  {
   "cell_type": "code",
   "execution_count": 41,
   "metadata": {},
   "outputs": [],
   "source": [
    "def write_file(filename, lines):\n",
    "    with open(filename, 'w') as f:\n",
    "        f.writelines(lines)"
   ]
  },
  {
   "cell_type": "code",
   "execution_count": 42,
   "metadata": {},
   "outputs": [],
   "source": [
    "result_lines = []\n",
    "result_path = 'result_infos_eer'\n",
    "\n",
    "for (threshold, info) in zip(threshold_list, infos_list):\n",
    "    s = str(threshold) + ' ' + str(info[0]) + ' ' + str(info[1]) + '\\n'    # threshold，FA, FR\n",
    "    result_lines.append(s)\n",
    "    \n",
    "write_file(result_path, result_lines)"
   ]
  },
  {
   "cell_type": "code",
   "execution_count": 43,
   "metadata": {
    "collapsed": true
   },
   "outputs": [
    {
     "data": {
      "text/plain": [
       "[0.0098652413,\n",
       " 0.0197304826,\n",
       " 0.029595723900000002,\n",
       " 0.0394609652,\n",
       " 0.049326206500000004,\n",
       " 0.059191447800000005,\n",
       " 0.06905668910000001,\n",
       " 0.0789219304,\n",
       " 0.0887871717,\n",
       " 0.09865241300000001,\n",
       " 0.10851765430000002,\n",
       " 0.11838289560000001,\n",
       " 0.1282481369,\n",
       " 0.13811337820000003,\n",
       " 0.14797861950000002,\n",
       " 0.1578438608,\n",
       " 0.1677091021,\n",
       " 0.1775743434,\n",
       " 0.18743958470000002,\n",
       " 0.19730482600000002,\n",
       " 0.2071700673,\n",
       " 0.21703530860000003,\n",
       " 0.22690054990000003,\n",
       " 0.23676579120000002,\n",
       " 0.2466310325,\n",
       " 0.2564962738,\n",
       " 0.2663615151,\n",
       " 0.27622675640000005,\n",
       " 0.28609199770000004,\n",
       " 0.29595723900000004,\n",
       " 0.30582248030000003,\n",
       " 0.3156877216,\n",
       " 0.3255529629,\n",
       " 0.3354182042,\n",
       " 0.3452834455,\n",
       " 0.3551486868,\n",
       " 0.36501392810000005,\n",
       " 0.37487916940000005,\n",
       " 0.38474441070000004,\n",
       " 0.39460965200000003,\n",
       " 0.4044748933,\n",
       " 0.4143401346,\n",
       " 0.4242053759,\n",
       " 0.43407061720000006,\n",
       " 0.44393585850000006,\n",
       " 0.45380109980000005,\n",
       " 0.46366634110000005,\n",
       " 0.47353158240000004,\n",
       " 0.48339682370000003,\n",
       " 0.493262065,\n",
       " 0.5031273063,\n",
       " 0.5129925476,\n",
       " 0.5228577889,\n",
       " 0.5327230302,\n",
       " 0.5425882715,\n",
       " 0.5524535128000001,\n",
       " 0.5623187541000001,\n",
       " 0.5721839954000001,\n",
       " 0.5820492367000001,\n",
       " 0.5919144780000001,\n",
       " 0.6017797193000001,\n",
       " 0.6116449606000001,\n",
       " 0.6215102019000001,\n",
       " 0.6313754432,\n",
       " 0.6412406845,\n",
       " 0.6511059258,\n",
       " 0.6609711671,\n",
       " 0.6708364084,\n",
       " 0.6807016497,\n",
       " 0.690566891,\n",
       " 0.7004321323,\n",
       " 0.7102973736,\n",
       " 0.7201626149000001,\n",
       " 0.7300278562000001,\n",
       " 0.7398930975000001,\n",
       " 0.7497583388000001,\n",
       " 0.7596235801000001,\n",
       " 0.7694888214000001,\n",
       " 0.7793540627000001,\n",
       " 0.7892193040000001,\n",
       " 0.7990845453000001,\n",
       " 0.8089497866,\n",
       " 0.8188150279,\n",
       " 0.8286802692,\n",
       " 0.8385455105,\n",
       " 0.8484107518,\n",
       " 0.8582759931,\n",
       " 0.8681412344000001,\n",
       " 0.8780064757000001,\n",
       " 0.8878717170000001,\n",
       " 0.8977369583000001,\n",
       " 0.9076021996000001,\n",
       " 0.9174674409000001,\n",
       " 0.9273326822000001,\n",
       " 0.9371979235000001,\n",
       " 0.9470631648000001,\n",
       " 0.9569284061000001,\n",
       " 0.9667936474000001,\n",
       " 0.9766588887000001]"
      ]
     },
     "execution_count": 43,
     "metadata": {},
     "output_type": "execute_result"
    }
   ],
   "source": [
    "threshold_list"
   ]
  },
  {
   "cell_type": "code",
   "execution_count": 53,
   "metadata": {},
   "outputs": [
    {
     "name": "stdout",
     "output_type": "stream",
     "text": [
      "min_x: 0.0098652413 max_x: 0.9766588887000001\n"
     ]
    },
    {
     "data": {
      "image/png": "[encoded data removed]",
      "text/plain": [
       "<Figure size 432x288 with 1 Axes>"
      ]
     },
     "metadata": {
      "needs_background": "light"
     },
     "output_type": "display_data"
    }
   ],
   "source": [
    "#!coding=utf-8\n",
    "\n",
    "def read_file(filepath):\n",
    "    with open(filepath, 'r') as f:\n",
    "        lines = f.readlines()\n",
    "    return lines\n",
    "result_infos_path = 'result_infos_eer'\n",
    "far_s = []\n",
    "frr_s = []\n",
    "threshholds = []\n",
    "results_info_lines = read_file(result_infos_path)\n",
    "\n",
    "for line in results_info_lines:\n",
    "    splits = line.strip().split(' ')\n",
    "    threshhold, far, frr = splits\n",
    "    threshholds.append(eval(threshhold))   #eval 评估\n",
    "    far_s.append(eval(far))\n",
    "    frr_s.append(eval(frr))\n",
    "\n",
    "max_x = max(threshholds)\n",
    "min_x = min(threshholds)\n",
    "print(\"min_x:\", min_x, \"max_x:\", max_x)\n",
    "\n",
    "# 图例 with legend\n",
    "fig, ax = plt.subplots()\n",
    "plt.title(\"EER curve\")\n",
    "\n",
    "plt.xlabel('threshhold')\n",
    "plt.ylabel('FA/FR')\n",
    "yminorLocator = MultipleLocator(0.02) #设置y轴的精度\n",
    "ax.yaxis.set_minor_locator(yminorLocator) #设置次刻度线\n",
    "\n",
    "\"\"\"set min and max value for axes\"\"\"\n",
    "ax.set_ylim([0.40, 0.60])\n",
    "ax.set_xlim([min_x, max_x])\n",
    "ax.yaxis.grid(yminorLocator)\n",
    "\n",
    "ax.xaxis.grid(True, which='major')\n",
    "ax.yaxis.grid(True, which='minor')\n",
    "plt.plot(threshholds, far_s,  '.' , label=\"FA\")\n",
    "plt.plot(threshholds, frr_s, '.', label=\"FR\")\n",
    "plt.legend(loc='upper right')\n",
    "\n",
    "plt.show()# show the plot on the screen"
   ]
  },
  {
   "cell_type": "code",
   "execution_count": null,
   "metadata": {},
   "outputs": [],
   "source": []
  },
  {
   "cell_type": "markdown",
   "metadata": {},
   "source": [
    "# PART II"
   ]
  },
  {
   "cell_type": "code",
   "execution_count": 25,
   "metadata": {},
   "outputs": [],
   "source": [
    "#use parameters    criterion = 'entropy', min_points_in_leaf = 2（min_samples_leaf=2？）"
   ]
  },
  {
   "cell_type": "code",
   "execution_count": 1,
   "metadata": {},
   "outputs": [],
   "source": [
    "from sklearn import tree\n",
    "from sklearn.datasets import load_wine\n",
    "from sklearn.model_selection import train_test_split \n",
    "import pandas as pd\n",
    "import numpy as np\n",
    "\n",
    "from sklearn.model_selection import cross_val_score\n",
    "import graphviz"
   ]
  },
  {
   "cell_type": "code",
   "execution_count": 2,
   "metadata": {},
   "outputs": [],
   "source": [
    "#将数据写入csv文件\n",
    "\n",
    "Weather = ['Foggy', 'Cloudy', 'Sunny', 'Sunny', 'Foggy', 'Cloudy', 'Foggy', 'Foggy']\n",
    "Rain = ['Yes', 'No', 'No', 'No', 'No', 'Yes', 'No', 'No']\n",
    "Temperature = [16, 13, 18, 14, 13, 16, 16, 18]\n",
    "Walk = ['Yes', 'No', 'Yes', 'No', 'No', 'Yes', 'No', 'Yes']\n",
    "\n",
    "df = pd.DataFrame({'Weather':Weather, 'Rain':Rain, 'Temperature':Temperature, 'Walk':Walk})\n",
    "df.to_csv('data.csv', index=False)"
   ]
  },
  {
   "cell_type": "code",
   "execution_count": 3,
   "metadata": {},
   "outputs": [
    {
     "data": {
      "text/html": [
       "<div>\n",
       "<style scoped>\n",
       "    .dataframe tbody tr th:only-of-type {\n",
       "        vertical-align: middle;\n",
       "    }\n",
       "\n",
       "    .dataframe tbody tr th {\n",
       "        vertical-align: top;\n",
       "    }\n",
       "\n",
       "    .dataframe thead th {\n",
       "        text-align: right;\n",
       "    }\n",
       "</style>\n",
       "<table border=\"1\" class=\"dataframe\">\n",
       "  <thead>\n",
       "    <tr style=\"text-align: right;\">\n",
       "      <th></th>\n",
       "      <th>Weather</th>\n",
       "      <th>Rain</th>\n",
       "      <th>Temperature</th>\n",
       "      <th>Walk</th>\n",
       "    </tr>\n",
       "  </thead>\n",
       "  <tbody>\n",
       "    <tr>\n",
       "      <th>0</th>\n",
       "      <td>Foggy</td>\n",
       "      <td>Yes</td>\n",
       "      <td>16</td>\n",
       "      <td>Yes</td>\n",
       "    </tr>\n",
       "    <tr>\n",
       "      <th>1</th>\n",
       "      <td>Cloudy</td>\n",
       "      <td>No</td>\n",
       "      <td>13</td>\n",
       "      <td>No</td>\n",
       "    </tr>\n",
       "    <tr>\n",
       "      <th>2</th>\n",
       "      <td>Sunny</td>\n",
       "      <td>No</td>\n",
       "      <td>18</td>\n",
       "      <td>Yes</td>\n",
       "    </tr>\n",
       "    <tr>\n",
       "      <th>3</th>\n",
       "      <td>Sunny</td>\n",
       "      <td>No</td>\n",
       "      <td>14</td>\n",
       "      <td>No</td>\n",
       "    </tr>\n",
       "    <tr>\n",
       "      <th>4</th>\n",
       "      <td>Foggy</td>\n",
       "      <td>No</td>\n",
       "      <td>13</td>\n",
       "      <td>No</td>\n",
       "    </tr>\n",
       "    <tr>\n",
       "      <th>5</th>\n",
       "      <td>Cloudy</td>\n",
       "      <td>Yes</td>\n",
       "      <td>16</td>\n",
       "      <td>Yes</td>\n",
       "    </tr>\n",
       "    <tr>\n",
       "      <th>6</th>\n",
       "      <td>Foggy</td>\n",
       "      <td>No</td>\n",
       "      <td>16</td>\n",
       "      <td>No</td>\n",
       "    </tr>\n",
       "    <tr>\n",
       "      <th>7</th>\n",
       "      <td>Foggy</td>\n",
       "      <td>No</td>\n",
       "      <td>18</td>\n",
       "      <td>Yes</td>\n",
       "    </tr>\n",
       "  </tbody>\n",
       "</table>\n",
       "</div>"
      ],
      "text/plain": [
       "  Weather Rain  Temperature Walk\n",
       "0   Foggy  Yes           16  Yes\n",
       "1  Cloudy   No           13   No\n",
       "2   Sunny   No           18  Yes\n",
       "3   Sunny   No           14   No\n",
       "4   Foggy   No           13   No\n",
       "5  Cloudy  Yes           16  Yes\n",
       "6   Foggy   No           16   No\n",
       "7   Foggy   No           18  Yes"
      ]
     },
     "execution_count": 3,
     "metadata": {},
     "output_type": "execute_result"
    }
   ],
   "source": [
    "data = pd.read_csv('./data.csv')\n",
    "data"
   ]
  },
  {
   "cell_type": "code",
   "execution_count": 4,
   "metadata": {},
   "outputs": [],
   "source": [
    "#将分类变量转换为数值型变量  Convert categorical variables to numeric variables"
   ]
  },
  {
   "cell_type": "code",
   "execution_count": 5,
   "metadata": {},
   "outputs": [
    {
     "data": {
      "text/plain": [
       "['Foggy', 'Cloudy', 'Sunny']"
      ]
     },
     "execution_count": 5,
     "metadata": {},
     "output_type": "execute_result"
    }
   ],
   "source": [
    "labels_weather = data['Weather'].unique().tolist()\n",
    "labels_weather"
   ]
  },
  {
   "cell_type": "code",
   "execution_count": 6,
   "metadata": {},
   "outputs": [
    {
     "data": {
      "text/plain": [
       "0    0\n",
       "1    1\n",
       "2    2\n",
       "3    2\n",
       "4    0\n",
       "5    1\n",
       "6    0\n",
       "7    0\n",
       "Name: Weather, dtype: int64"
      ]
     },
     "execution_count": 6,
     "metadata": {},
     "output_type": "execute_result"
    }
   ],
   "source": [
    "data['Weather'] = data['Weather'].apply(lambda x:labels_weather.index(x))\n",
    "data['Weather']"
   ]
  },
  {
   "cell_type": "code",
   "execution_count": 7,
   "metadata": {},
   "outputs": [
    {
     "data": {
      "text/plain": [
       "['Yes', 'No']"
      ]
     },
     "execution_count": 7,
     "metadata": {},
     "output_type": "execute_result"
    }
   ],
   "source": [
    "labels_rain = data['Rain'].unique().tolist()\n",
    "labels_rain"
   ]
  },
  {
   "cell_type": "code",
   "execution_count": 8,
   "metadata": {},
   "outputs": [
    {
     "data": {
      "text/plain": [
       "0    1\n",
       "1    0\n",
       "2    0\n",
       "3    0\n",
       "4    0\n",
       "5    1\n",
       "6    0\n",
       "7    0\n",
       "Name: Rain, dtype: int64"
      ]
     },
     "execution_count": 8,
     "metadata": {},
     "output_type": "execute_result"
    }
   ],
   "source": [
    "data['Rain'] = (data['Rain']=='Yes').astype('int')\n",
    "data['Rain']"
   ]
  },
  {
   "cell_type": "code",
   "execution_count": 9,
   "metadata": {},
   "outputs": [
    {
     "data": {
      "text/plain": [
       "0    1\n",
       "1    0\n",
       "2    1\n",
       "3    0\n",
       "4    0\n",
       "5    1\n",
       "6    0\n",
       "7    1\n",
       "Name: Walk, dtype: int64"
      ]
     },
     "execution_count": 9,
     "metadata": {},
     "output_type": "execute_result"
    }
   ],
   "source": [
    "data['Walk'] = (data['Walk']=='Yes').astype('int')\n",
    "data['Walk']"
   ]
  },
  {
   "cell_type": "code",
   "execution_count": 10,
   "metadata": {},
   "outputs": [
    {
     "data": {
      "text/html": [
       "<div>\n",
       "<style scoped>\n",
       "    .dataframe tbody tr th:only-of-type {\n",
       "        vertical-align: middle;\n",
       "    }\n",
       "\n",
       "    .dataframe tbody tr th {\n",
       "        vertical-align: top;\n",
       "    }\n",
       "\n",
       "    .dataframe thead th {\n",
       "        text-align: right;\n",
       "    }\n",
       "</style>\n",
       "<table border=\"1\" class=\"dataframe\">\n",
       "  <thead>\n",
       "    <tr style=\"text-align: right;\">\n",
       "      <th></th>\n",
       "      <th>Weather</th>\n",
       "      <th>Rain</th>\n",
       "      <th>Temperature</th>\n",
       "      <th>Walk</th>\n",
       "    </tr>\n",
       "  </thead>\n",
       "  <tbody>\n",
       "    <tr>\n",
       "      <th>0</th>\n",
       "      <td>0</td>\n",
       "      <td>1</td>\n",
       "      <td>16</td>\n",
       "      <td>1</td>\n",
       "    </tr>\n",
       "    <tr>\n",
       "      <th>1</th>\n",
       "      <td>1</td>\n",
       "      <td>0</td>\n",
       "      <td>13</td>\n",
       "      <td>0</td>\n",
       "    </tr>\n",
       "    <tr>\n",
       "      <th>2</th>\n",
       "      <td>2</td>\n",
       "      <td>0</td>\n",
       "      <td>18</td>\n",
       "      <td>1</td>\n",
       "    </tr>\n",
       "    <tr>\n",
       "      <th>3</th>\n",
       "      <td>2</td>\n",
       "      <td>0</td>\n",
       "      <td>14</td>\n",
       "      <td>0</td>\n",
       "    </tr>\n",
       "    <tr>\n",
       "      <th>4</th>\n",
       "      <td>0</td>\n",
       "      <td>0</td>\n",
       "      <td>13</td>\n",
       "      <td>0</td>\n",
       "    </tr>\n",
       "    <tr>\n",
       "      <th>5</th>\n",
       "      <td>1</td>\n",
       "      <td>1</td>\n",
       "      <td>16</td>\n",
       "      <td>1</td>\n",
       "    </tr>\n",
       "    <tr>\n",
       "      <th>6</th>\n",
       "      <td>0</td>\n",
       "      <td>0</td>\n",
       "      <td>16</td>\n",
       "      <td>0</td>\n",
       "    </tr>\n",
       "    <tr>\n",
       "      <th>7</th>\n",
       "      <td>0</td>\n",
       "      <td>0</td>\n",
       "      <td>18</td>\n",
       "      <td>1</td>\n",
       "    </tr>\n",
       "  </tbody>\n",
       "</table>\n",
       "</div>"
      ],
      "text/plain": [
       "   Weather  Rain  Temperature  Walk\n",
       "0        0     1           16     1\n",
       "1        1     0           13     0\n",
       "2        2     0           18     1\n",
       "3        2     0           14     0\n",
       "4        0     0           13     0\n",
       "5        1     1           16     1\n",
       "6        0     0           16     0\n",
       "7        0     0           18     1"
      ]
     },
     "execution_count": 10,
     "metadata": {},
     "output_type": "execute_result"
    }
   ],
   "source": [
    "data"
   ]
  },
  {
   "cell_type": "code",
   "execution_count": 11,
   "metadata": {},
   "outputs": [],
   "source": [
    "#数据集划分  Data set division"
   ]
  },
  {
   "cell_type": "code",
   "execution_count": 12,
   "metadata": {},
   "outputs": [
    {
     "data": {
      "text/html": [
       "<div>\n",
       "<style scoped>\n",
       "    .dataframe tbody tr th:only-of-type {\n",
       "        vertical-align: middle;\n",
       "    }\n",
       "\n",
       "    .dataframe tbody tr th {\n",
       "        vertical-align: top;\n",
       "    }\n",
       "\n",
       "    .dataframe thead th {\n",
       "        text-align: right;\n",
       "    }\n",
       "</style>\n",
       "<table border=\"1\" class=\"dataframe\">\n",
       "  <thead>\n",
       "    <tr style=\"text-align: right;\">\n",
       "      <th></th>\n",
       "      <th>Weather</th>\n",
       "      <th>Rain</th>\n",
       "      <th>Temperature</th>\n",
       "    </tr>\n",
       "  </thead>\n",
       "  <tbody>\n",
       "    <tr>\n",
       "      <th>0</th>\n",
       "      <td>0</td>\n",
       "      <td>1</td>\n",
       "      <td>16</td>\n",
       "    </tr>\n",
       "    <tr>\n",
       "      <th>1</th>\n",
       "      <td>1</td>\n",
       "      <td>0</td>\n",
       "      <td>13</td>\n",
       "    </tr>\n",
       "    <tr>\n",
       "      <th>2</th>\n",
       "      <td>2</td>\n",
       "      <td>0</td>\n",
       "      <td>18</td>\n",
       "    </tr>\n",
       "    <tr>\n",
       "      <th>3</th>\n",
       "      <td>2</td>\n",
       "      <td>0</td>\n",
       "      <td>14</td>\n",
       "    </tr>\n",
       "    <tr>\n",
       "      <th>4</th>\n",
       "      <td>0</td>\n",
       "      <td>0</td>\n",
       "      <td>13</td>\n",
       "    </tr>\n",
       "    <tr>\n",
       "      <th>5</th>\n",
       "      <td>1</td>\n",
       "      <td>1</td>\n",
       "      <td>16</td>\n",
       "    </tr>\n",
       "    <tr>\n",
       "      <th>6</th>\n",
       "      <td>0</td>\n",
       "      <td>0</td>\n",
       "      <td>16</td>\n",
       "    </tr>\n",
       "    <tr>\n",
       "      <th>7</th>\n",
       "      <td>0</td>\n",
       "      <td>0</td>\n",
       "      <td>18</td>\n",
       "    </tr>\n",
       "  </tbody>\n",
       "</table>\n",
       "</div>"
      ],
      "text/plain": [
       "   Weather  Rain  Temperature\n",
       "0        0     1           16\n",
       "1        1     0           13\n",
       "2        2     0           18\n",
       "3        2     0           14\n",
       "4        0     0           13\n",
       "5        1     1           16\n",
       "6        0     0           16\n",
       "7        0     0           18"
      ]
     },
     "execution_count": 12,
     "metadata": {},
     "output_type": "execute_result"
    }
   ],
   "source": [
    "x = data.iloc[:,data.columns !='Walk'] \n",
    "x"
   ]
  },
  {
   "cell_type": "code",
   "execution_count": 13,
   "metadata": {},
   "outputs": [
    {
     "data": {
      "text/html": [
       "<div>\n",
       "<style scoped>\n",
       "    .dataframe tbody tr th:only-of-type {\n",
       "        vertical-align: middle;\n",
       "    }\n",
       "\n",
       "    .dataframe tbody tr th {\n",
       "        vertical-align: top;\n",
       "    }\n",
       "\n",
       "    .dataframe thead th {\n",
       "        text-align: right;\n",
       "    }\n",
       "</style>\n",
       "<table border=\"1\" class=\"dataframe\">\n",
       "  <thead>\n",
       "    <tr style=\"text-align: right;\">\n",
       "      <th></th>\n",
       "      <th>Walk</th>\n",
       "    </tr>\n",
       "  </thead>\n",
       "  <tbody>\n",
       "    <tr>\n",
       "      <th>0</th>\n",
       "      <td>1</td>\n",
       "    </tr>\n",
       "    <tr>\n",
       "      <th>1</th>\n",
       "      <td>0</td>\n",
       "    </tr>\n",
       "    <tr>\n",
       "      <th>2</th>\n",
       "      <td>1</td>\n",
       "    </tr>\n",
       "    <tr>\n",
       "      <th>3</th>\n",
       "      <td>0</td>\n",
       "    </tr>\n",
       "    <tr>\n",
       "      <th>4</th>\n",
       "      <td>0</td>\n",
       "    </tr>\n",
       "    <tr>\n",
       "      <th>5</th>\n",
       "      <td>1</td>\n",
       "    </tr>\n",
       "    <tr>\n",
       "      <th>6</th>\n",
       "      <td>0</td>\n",
       "    </tr>\n",
       "    <tr>\n",
       "      <th>7</th>\n",
       "      <td>1</td>\n",
       "    </tr>\n",
       "  </tbody>\n",
       "</table>\n",
       "</div>"
      ],
      "text/plain": [
       "   Walk\n",
       "0     1\n",
       "1     0\n",
       "2     1\n",
       "3     0\n",
       "4     0\n",
       "5     1\n",
       "6     0\n",
       "7     1"
      ]
     },
     "execution_count": 13,
     "metadata": {},
     "output_type": "execute_result"
    }
   ],
   "source": [
    "y = data.iloc[:,data.columns =='Walk'] \n",
    "y"
   ]
  },
  {
   "cell_type": "code",
   "execution_count": 14,
   "metadata": {},
   "outputs": [],
   "source": [
    "x_train,x_test,y_train,y_test = train_test_split(x,y,test_size=0.3)"
   ]
  },
  {
   "cell_type": "code",
   "execution_count": 15,
   "metadata": {},
   "outputs": [],
   "source": [
    "for i in [x_train,x_test,y_train,y_test]:\n",
    "    i.index = range(i.shape[0])\n",
    "    #规范索引  Canonical Index"
   ]
  },
  {
   "cell_type": "code",
   "execution_count": 16,
   "metadata": {},
   "outputs": [
    {
     "data": {
      "text/html": [
       "<div>\n",
       "<style scoped>\n",
       "    .dataframe tbody tr th:only-of-type {\n",
       "        vertical-align: middle;\n",
       "    }\n",
       "\n",
       "    .dataframe tbody tr th {\n",
       "        vertical-align: top;\n",
       "    }\n",
       "\n",
       "    .dataframe thead th {\n",
       "        text-align: right;\n",
       "    }\n",
       "</style>\n",
       "<table border=\"1\" class=\"dataframe\">\n",
       "  <thead>\n",
       "    <tr style=\"text-align: right;\">\n",
       "      <th></th>\n",
       "      <th>Weather</th>\n",
       "      <th>Rain</th>\n",
       "      <th>Temperature</th>\n",
       "    </tr>\n",
       "  </thead>\n",
       "  <tbody>\n",
       "    <tr>\n",
       "      <th>0</th>\n",
       "      <td>0</td>\n",
       "      <td>0</td>\n",
       "      <td>13</td>\n",
       "    </tr>\n",
       "    <tr>\n",
       "      <th>1</th>\n",
       "      <td>0</td>\n",
       "      <td>0</td>\n",
       "      <td>16</td>\n",
       "    </tr>\n",
       "    <tr>\n",
       "      <th>2</th>\n",
       "      <td>0</td>\n",
       "      <td>1</td>\n",
       "      <td>16</td>\n",
       "    </tr>\n",
       "    <tr>\n",
       "      <th>3</th>\n",
       "      <td>1</td>\n",
       "      <td>1</td>\n",
       "      <td>16</td>\n",
       "    </tr>\n",
       "    <tr>\n",
       "      <th>4</th>\n",
       "      <td>1</td>\n",
       "      <td>0</td>\n",
       "      <td>13</td>\n",
       "    </tr>\n",
       "  </tbody>\n",
       "</table>\n",
       "</div>"
      ],
      "text/plain": [
       "   Weather  Rain  Temperature\n",
       "0        0     0           13\n",
       "1        0     0           16\n",
       "2        0     1           16\n",
       "3        1     1           16\n",
       "4        1     0           13"
      ]
     },
     "execution_count": 16,
     "metadata": {},
     "output_type": "execute_result"
    }
   ],
   "source": [
    "x_train"
   ]
  },
  {
   "cell_type": "code",
   "execution_count": 17,
   "metadata": {},
   "outputs": [],
   "source": [
    "#训练模型 Training model"
   ]
  },
  {
   "cell_type": "code",
   "execution_count": 18,
   "metadata": {},
   "outputs": [
    {
     "data": {
      "text/plain": [
       "0.3333333333333333"
      ]
     },
     "execution_count": 18,
     "metadata": {},
     "output_type": "execute_result"
    }
   ],
   "source": [
    "clf = tree.DecisionTreeClassifier(criterion=\"entropy\", min_samples_leaf=2)\n",
    "clf = clf.fit(x_train,y_train)  \n",
    "score = clf.score(x_test,y_test) #返回预测的准确度accuracy\n",
    "\n",
    "score"
   ]
  },
  {
   "cell_type": "code",
   "execution_count": 19,
   "metadata": {},
   "outputs": [
    {
     "data": {
      "image/svg+xml": [
       "<?xml version=\"1.0\" encoding=\"UTF-8\" standalone=\"no\"?>\n",
       "<!DOCTYPE svg PUBLIC \"-//W3C//DTD SVG 1.1//EN\"\n",
       " \"http://www.w3.org/Graphics/SVG/1.1/DTD/svg11.dtd\">\n",
       "<!-- Generated by graphviz version 2.44.1 (20200629.0846)\n",
       " -->\n",
       "<!-- Title: Tree Pages: 1 -->\n",
       "<svg width=\"218pt\" height=\"195pt\"\n",
       " viewBox=\"0.00 0.00 218.00 195.00\" xmlns=\"http://www.w3.org/2000/svg\" xmlns:xlink=\"http://www.w3.org/1999/xlink\">\n",
       "<g id=\"graph0\" class=\"graph\" transform=\"scale(1 1) rotate(0) translate(4 191)\">\n",
       "<title>Tree</title>\n",
       "<polygon fill=\"white\" stroke=\"transparent\" points=\"-4,4 -4,-191 214,-191 214,4 -4,4\"/>\n",
       "<!-- 0 -->\n",
       "<g id=\"node1\" class=\"node\">\n",
       "<title>0</title>\n",
       "<path fill=\"#f6d5bd\" stroke=\"black\" d=\"M148.5,-187C148.5,-187 61.5,-187 61.5,-187 55.5,-187 49.5,-181 49.5,-175 49.5,-175 49.5,-116 49.5,-116 49.5,-110 55.5,-104 61.5,-104 61.5,-104 148.5,-104 148.5,-104 154.5,-104 160.5,-110 160.5,-116 160.5,-116 160.5,-175 160.5,-175 160.5,-181 154.5,-187 148.5,-187\"/>\n",
       "<text text-anchor=\"middle\" x=\"105\" y=\"-171.8\" font-family=\"Helvetica,sans-Serif\" font-size=\"14.00\">Rain &lt;= 0.5</text>\n",
       "<text text-anchor=\"middle\" x=\"105\" y=\"-156.8\" font-family=\"Helvetica,sans-Serif\" font-size=\"14.00\">entropy = 0.971</text>\n",
       "<text text-anchor=\"middle\" x=\"105\" y=\"-141.8\" font-family=\"Helvetica,sans-Serif\" font-size=\"14.00\">samples = 5</text>\n",
       "<text text-anchor=\"middle\" x=\"105\" y=\"-126.8\" font-family=\"Helvetica,sans-Serif\" font-size=\"14.00\">value = [3, 2]</text>\n",
       "<text text-anchor=\"middle\" x=\"105\" y=\"-111.8\" font-family=\"Helvetica,sans-Serif\" font-size=\"14.00\">class = yes</text>\n",
       "</g>\n",
       "<!-- 1 -->\n",
       "<g id=\"node2\" class=\"node\">\n",
       "<title>1</title>\n",
       "<path fill=\"#e58139\" stroke=\"black\" d=\"M84,-68C84,-68 12,-68 12,-68 6,-68 0,-62 0,-56 0,-56 0,-12 0,-12 0,-6 6,0 12,0 12,0 84,0 84,0 90,0 96,-6 96,-12 96,-12 96,-56 96,-56 96,-62 90,-68 84,-68\"/>\n",
       "<text text-anchor=\"middle\" x=\"48\" y=\"-52.8\" font-family=\"Helvetica,sans-Serif\" font-size=\"14.00\">entropy = 0.0</text>\n",
       "<text text-anchor=\"middle\" x=\"48\" y=\"-37.8\" font-family=\"Helvetica,sans-Serif\" font-size=\"14.00\">samples = 3</text>\n",
       "<text text-anchor=\"middle\" x=\"48\" y=\"-22.8\" font-family=\"Helvetica,sans-Serif\" font-size=\"14.00\">value = [3, 0]</text>\n",
       "<text text-anchor=\"middle\" x=\"48\" y=\"-7.8\" font-family=\"Helvetica,sans-Serif\" font-size=\"14.00\">class = yes</text>\n",
       "</g>\n",
       "<!-- 0&#45;&gt;1 -->\n",
       "<g id=\"edge1\" class=\"edge\">\n",
       "<title>0&#45;&gt;1</title>\n",
       "<path fill=\"none\" stroke=\"black\" d=\"M83.78,-103.73C79.26,-95.06 74.49,-85.9 69.96,-77.18\"/>\n",
       "<polygon fill=\"black\" stroke=\"black\" points=\"73.06,-75.55 65.33,-68.3 66.85,-78.79 73.06,-75.55\"/>\n",
       "<text text-anchor=\"middle\" x=\"57.82\" y=\"-88.44\" font-family=\"Helvetica,sans-Serif\" font-size=\"14.00\">True</text>\n",
       "</g>\n",
       "<!-- 2 -->\n",
       "<g id=\"node3\" class=\"node\">\n",
       "<title>2</title>\n",
       "<path fill=\"#399de5\" stroke=\"black\" d=\"M198,-68C198,-68 126,-68 126,-68 120,-68 114,-62 114,-56 114,-56 114,-12 114,-12 114,-6 120,0 126,0 126,0 198,0 198,0 204,0 210,-6 210,-12 210,-12 210,-56 210,-56 210,-62 204,-68 198,-68\"/>\n",
       "<text text-anchor=\"middle\" x=\"162\" y=\"-52.8\" font-family=\"Helvetica,sans-Serif\" font-size=\"14.00\">entropy = 0.0</text>\n",
       "<text text-anchor=\"middle\" x=\"162\" y=\"-37.8\" font-family=\"Helvetica,sans-Serif\" font-size=\"14.00\">samples = 2</text>\n",
       "<text text-anchor=\"middle\" x=\"162\" y=\"-22.8\" font-family=\"Helvetica,sans-Serif\" font-size=\"14.00\">value = [0, 2]</text>\n",
       "<text text-anchor=\"middle\" x=\"162\" y=\"-7.8\" font-family=\"Helvetica,sans-Serif\" font-size=\"14.00\">class = no</text>\n",
       "</g>\n",
       "<!-- 0&#45;&gt;2 -->\n",
       "<g id=\"edge2\" class=\"edge\">\n",
       "<title>0&#45;&gt;2</title>\n",
       "<path fill=\"none\" stroke=\"black\" d=\"M126.22,-103.73C130.74,-95.06 135.51,-85.9 140.04,-77.18\"/>\n",
       "<polygon fill=\"black\" stroke=\"black\" points=\"143.15,-78.79 144.67,-68.3 136.94,-75.55 143.15,-78.79\"/>\n",
       "<text text-anchor=\"middle\" x=\"152.18\" y=\"-88.44\" font-family=\"Helvetica,sans-Serif\" font-size=\"14.00\">False</text>\n",
       "</g>\n",
       "</g>\n",
       "</svg>\n"
      ],
      "text/plain": [
       "<graphviz.files.Source at 0x1a1f0fdd50>"
      ]
     },
     "execution_count": 19,
     "metadata": {},
     "output_type": "execute_result"
    }
   ],
   "source": [
    "#画图 Drawing\n",
    "feature_name = ['Weather', 'Rain', 'Temperature']\n",
    "dot_data = tree.export_graphviz(clf\n",
    "                                ,feature_names =  feature_name\n",
    "                                ,class_names=['yes','no']\n",
    "                                ,filled=True #树的颜色\n",
    "                                ,rounded=True #框圆\n",
    ")\n",
    "\n",
    "graph = graphviz.Source(dot_data)\n",
    "graph"
   ]
  },
  {
   "cell_type": "code",
   "execution_count": 20,
   "metadata": {},
   "outputs": [],
   "source": [
    "# clf = tree.DecisionTreeClassifier(random_state =25)\n",
    "# clf = clf.fit(x_train,y_train)\n",
    "# score = clf.score(x_test,y_test)\n",
    "# score"
   ]
  },
  {
   "cell_type": "code",
   "execution_count": 21,
   "metadata": {},
   "outputs": [
    {
     "data": {
      "text/plain": [
       "0.7222222222222222"
      ]
     },
     "execution_count": 21,
     "metadata": {},
     "output_type": "execute_result"
    }
   ],
   "source": [
    "# #使用交叉验证\n",
    "# clf2 = tree.DecisionTreeClassifier(criterion=\"entropy\", min_samples_leaf=2)\n",
    "# score = cross_val_score(clf2,x,y,cv=3).mean()\n",
    "\n",
    "# score"
   ]
  },
  {
   "cell_type": "code",
   "execution_count": null,
   "metadata": {},
   "outputs": [],
   "source": []
  },
  {
   "cell_type": "code",
   "execution_count": 23,
   "metadata": {},
   "outputs": [],
   "source": [
    "# #调参 画学习曲线\n",
    "\n",
    "# tr = []\n",
    "# te = []\n",
    "\n",
    "# for i in range(10):\n",
    "#     clf = tree.DecisionTreeClassifier(random_state=25\n",
    "#                                  ,max_depth=i+1\n",
    "#                                  ,criterion='entropy'\n",
    "#                                 )\n",
    "#     clf = clf.fit(x_train,y_train)\n",
    "#     score_tr = clf.score(x_train,y_train)\n",
    "#     score_te = cross_val_score(clf,x,y,cv=3).mean()\n",
    "    \n",
    "#     tr.append(score_tr)\n",
    "#     te.append(score_te)\n",
    "\n",
    "# print(max(te))"
   ]
  },
  {
   "cell_type": "code",
   "execution_count": null,
   "metadata": {},
   "outputs": [],
   "source": []
  },
  {
   "cell_type": "code",
   "execution_count": 24,
   "metadata": {},
   "outputs": [],
   "source": [
    "# #网格搜索\n",
    "# import numpy as np \n",
    "# gini_threholds = np.linspace(0,0.5,50)   #gini系数的取值是0-0.5\n",
    "# #entropy_threholds = np.linspace(0,1,50) entropy是0-1\n",
    "\n",
    "\n",
    "# # parameters : 是一串参数和这些参数对应的，我们希望网格搜索来搜索的参数的取值范围\n",
    "\n",
    "# # parameters : \n",
    "# parameters = {'criterion':('gini','entropy')\n",
    "#               ,'splitter':('best','random')\n",
    "#               ,'max_depth':[*range(1,10)]               # 刚刚测的是最好是3\n",
    "#               ,'min_samples_leaf':[*range(1,50,5)]      # 1-50的范围步长5\n",
    "#               ,'min_impurity_decrease':[*np.linspace(0,0.5,50)]\n",
    "              \n",
    "# # min_impurity_decrease 信息增益最小值，当信息增益小于这个值的时候，决策树的这个节点将不再分枝，\n",
    "# #这个参数很难界定，每个树，每个节点都不一样，min_impurity_decrease一般在网格搜索会使用到\n",
    "     \n",
    "# }\n",
    "\n",
    "# clf = DecisionTreeClassifier(random_state=25)\n",
    "# GS = GridSearchCV(clf,parameters,cv=10)       # GridSearchCV同时满足fit score 交叉验证 三个功能\n",
    "# GS = GS.fit(xtrain,ytrain)\n"
   ]
  },
  {
   "cell_type": "code",
   "execution_count": null,
   "metadata": {},
   "outputs": [],
   "source": []
  },
  {
   "cell_type": "code",
   "execution_count": 36,
   "metadata": {},
   "outputs": [
    {
     "data": {
      "image/svg+xml": [
       "<?xml version=\"1.0\" encoding=\"UTF-8\" standalone=\"no\"?>\n",
       "<!DOCTYPE svg PUBLIC \"-//W3C//DTD SVG 1.1//EN\"\n",
       " \"http://www.w3.org/Graphics/SVG/1.1/DTD/svg11.dtd\">\n",
       "<!-- Generated by graphviz version 2.44.1 (20200629.0846)\n",
       " -->\n",
       "<!-- Title: Tree Pages: 1 -->\n",
       "<svg width=\"218pt\" height=\"195pt\"\n",
       " viewBox=\"0.00 0.00 218.00 195.00\" xmlns=\"http://www.w3.org/2000/svg\" xmlns:xlink=\"http://www.w3.org/1999/xlink\">\n",
       "<g id=\"graph0\" class=\"graph\" transform=\"scale(1 1) rotate(0) translate(4 191)\">\n",
       "<title>Tree</title>\n",
       "<polygon fill=\"white\" stroke=\"transparent\" points=\"-4,4 -4,-191 214,-191 214,4 -4,4\"/>\n",
       "<!-- 0 -->\n",
       "<g id=\"node1\" class=\"node\">\n",
       "<title>0</title>\n",
       "<path fill=\"#f6d5bd\" stroke=\"black\" d=\"M164.5,-187C164.5,-187 45.5,-187 45.5,-187 39.5,-187 33.5,-181 33.5,-175 33.5,-175 33.5,-116 33.5,-116 33.5,-110 39.5,-104 45.5,-104 45.5,-104 164.5,-104 164.5,-104 170.5,-104 176.5,-110 176.5,-116 176.5,-116 176.5,-175 176.5,-175 176.5,-181 170.5,-187 164.5,-187\"/>\n",
       "<text text-anchor=\"middle\" x=\"105\" y=\"-171.8\" font-family=\"Helvetica,sans-Serif\" font-size=\"14.00\">Temperature &lt;= 17.0</text>\n",
       "<text text-anchor=\"middle\" x=\"105\" y=\"-156.8\" font-family=\"Helvetica,sans-Serif\" font-size=\"14.00\">entropy = 0.971</text>\n",
       "<text text-anchor=\"middle\" x=\"105\" y=\"-141.8\" font-family=\"Helvetica,sans-Serif\" font-size=\"14.00\">samples = 5</text>\n",
       "<text text-anchor=\"middle\" x=\"105\" y=\"-126.8\" font-family=\"Helvetica,sans-Serif\" font-size=\"14.00\">value = [3, 2]</text>\n",
       "<text text-anchor=\"middle\" x=\"105\" y=\"-111.8\" font-family=\"Helvetica,sans-Serif\" font-size=\"14.00\">class = yes</text>\n",
       "</g>\n",
       "<!-- 1 -->\n",
       "<g id=\"node2\" class=\"node\">\n",
       "<title>1</title>\n",
       "<path fill=\"#e58139\" stroke=\"black\" d=\"M84,-68C84,-68 12,-68 12,-68 6,-68 0,-62 0,-56 0,-56 0,-12 0,-12 0,-6 6,0 12,0 12,0 84,0 84,0 90,0 96,-6 96,-12 96,-12 96,-56 96,-56 96,-62 90,-68 84,-68\"/>\n",
       "<text text-anchor=\"middle\" x=\"48\" y=\"-52.8\" font-family=\"Helvetica,sans-Serif\" font-size=\"14.00\">entropy = 0.0</text>\n",
       "<text text-anchor=\"middle\" x=\"48\" y=\"-37.8\" font-family=\"Helvetica,sans-Serif\" font-size=\"14.00\">samples = 3</text>\n",
       "<text text-anchor=\"middle\" x=\"48\" y=\"-22.8\" font-family=\"Helvetica,sans-Serif\" font-size=\"14.00\">value = [3, 0]</text>\n",
       "<text text-anchor=\"middle\" x=\"48\" y=\"-7.8\" font-family=\"Helvetica,sans-Serif\" font-size=\"14.00\">class = yes</text>\n",
       "</g>\n",
       "<!-- 0&#45;&gt;1 -->\n",
       "<g id=\"edge1\" class=\"edge\">\n",
       "<title>0&#45;&gt;1</title>\n",
       "<path fill=\"none\" stroke=\"black\" d=\"M83.78,-103.73C79.26,-95.06 74.49,-85.9 69.96,-77.18\"/>\n",
       "<polygon fill=\"black\" stroke=\"black\" points=\"73.06,-75.55 65.33,-68.3 66.85,-78.79 73.06,-75.55\"/>\n",
       "<text text-anchor=\"middle\" x=\"57.82\" y=\"-88.44\" font-family=\"Helvetica,sans-Serif\" font-size=\"14.00\">True</text>\n",
       "</g>\n",
       "<!-- 2 -->\n",
       "<g id=\"node3\" class=\"node\">\n",
       "<title>2</title>\n",
       "<path fill=\"#399de5\" stroke=\"black\" d=\"M198,-68C198,-68 126,-68 126,-68 120,-68 114,-62 114,-56 114,-56 114,-12 114,-12 114,-6 120,0 126,0 126,0 198,0 198,0 204,0 210,-6 210,-12 210,-12 210,-56 210,-56 210,-62 204,-68 198,-68\"/>\n",
       "<text text-anchor=\"middle\" x=\"162\" y=\"-52.8\" font-family=\"Helvetica,sans-Serif\" font-size=\"14.00\">entropy = 0.0</text>\n",
       "<text text-anchor=\"middle\" x=\"162\" y=\"-37.8\" font-family=\"Helvetica,sans-Serif\" font-size=\"14.00\">samples = 2</text>\n",
       "<text text-anchor=\"middle\" x=\"162\" y=\"-22.8\" font-family=\"Helvetica,sans-Serif\" font-size=\"14.00\">value = [0, 2]</text>\n",
       "<text text-anchor=\"middle\" x=\"162\" y=\"-7.8\" font-family=\"Helvetica,sans-Serif\" font-size=\"14.00\">class = no</text>\n",
       "</g>\n",
       "<!-- 0&#45;&gt;2 -->\n",
       "<g id=\"edge2\" class=\"edge\">\n",
       "<title>0&#45;&gt;2</title>\n",
       "<path fill=\"none\" stroke=\"black\" d=\"M126.22,-103.73C130.74,-95.06 135.51,-85.9 140.04,-77.18\"/>\n",
       "<polygon fill=\"black\" stroke=\"black\" points=\"143.15,-78.79 144.67,-68.3 136.94,-75.55 143.15,-78.79\"/>\n",
       "<text text-anchor=\"middle\" x=\"152.18\" y=\"-88.44\" font-family=\"Helvetica,sans-Serif\" font-size=\"14.00\">False</text>\n",
       "</g>\n",
       "</g>\n",
       "</svg>\n"
      ],
      "text/plain": [
       "<graphviz.files.Source at 0x1a232f7490>"
      ]
     },
     "execution_count": 36,
     "metadata": {},
     "output_type": "execute_result"
    }
   ],
   "source": [
    "# #画图\n",
    "# feature_name = ['Weather', 'Rain', 'Temperature']\n",
    "# dot_data = tree.export_graphviz(clf\n",
    "#                                 ,feature_names =  feature_name\n",
    "#                                 ,class_names=['yes','no']\n",
    "#                                 ,filled=True #树的颜色\n",
    "#                                 ,rounded=True #框圆\n",
    "# )\n",
    "\n",
    "# graph = graphviz.Source(dot_data)\n",
    "# graph"
   ]
  },
  {
   "cell_type": "code",
   "execution_count": null,
   "metadata": {},
   "outputs": [],
   "source": []
  }
 ],
 "metadata": {
  "kernelspec": {
   "display_name": "Python 3",
   "language": "python",
   "name": "python3"
  },
  "language_info": {
   "codemirror_mode": {
    "name": "ipython",
    "version": 3
   },
   "file_extension": ".py",
   "mimetype": "text/x-python",
   "name": "python",
   "nbconvert_exporter": "python",
   "pygments_lexer": "ipython3",
   "version": "3.7.6"
  }
 },
 "nbformat": 4,
 "nbformat_minor": 4
}
